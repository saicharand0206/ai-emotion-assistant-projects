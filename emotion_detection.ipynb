# Emotion Detection from Text Input (VADER-based)
# Author: Sai Charan Dantu

!pip install -q nltk vaderSentiment
import nltk
from vaderSentiment.vaderSentiment import SentimentIntensityAnalyzer

nltk.download('vader_lexicon')
analyzer = SentimentIntensityAnalyzer()

def detect_emotion(text):
    score = analyzer.polarity_scores(text)['compound']
    if score >= 0.05:
        return '🙂 Positive'
    elif score <= -0.05:
        return '☹️ Negative'
    else:
        return '😐 Neutral'

# Get input from the user
user_input = input("Enter your message: ")
emotion = detect_emotion(user_input)

print(f"Detected Emotion: {emotion}")