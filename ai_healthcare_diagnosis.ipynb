# AI in Healthcare: Disease Diagnosis using Symptoms
# Author: Sai Charan Dantu

import pandas as pd
from sklearn.model_selection import train_test_split
from sklearn.ensemble import RandomForestClassifier
from sklearn.metrics import classification_report

# Sample dataset: simplified for demo (10 symptoms and 3 diseases)
data = {
    'Fever': [1, 0, 1, 1, 0, 1],
    'Cough': [1, 0, 1, 1, 0, 1],
    'Fatigue': [1, 1, 0, 1, 0, 0],
    'Headache': [1, 1, 1, 0, 0, 0],
    'Sore Throat': [1, 0, 0, 1, 0, 1],
    'Shortness of Breath': [0, 0, 1, 1, 0, 0],
    'Loss of Smell': [1, 0, 0, 0, 0, 1],
    'Diarrhea': [0, 1, 0, 0, 1, 0],
    'Nausea': [0, 1, 0, 0, 1, 0],
    'Chest Pain': [0, 0, 1, 0, 0, 1],
    'Disease': ['Flu', 'Food Poisoning', 'COVID-19', 'Flu', 'Food Poisoning', 'COVID-19']
}

df = pd.DataFrame(data)

# Features and target
X = df.drop('Disease', axis=1)
y = df['Disease']

# Train/Test split
X_train, X_test, y_train, y_test = train_test_split(X, y, test_size=0.33, random_state=42)

# Model
model = RandomForestClassifier()
model.fit(X_train, y_train)

# Evaluate
y_pred = model.predict(X_test)
print("Classification Report:")
print(classification_report(y_test, y_pred))

# Predict for custom input
print("\nEnter the following symptoms (1 for Yes, 0 for No):")
symptoms = []
for symptom in X.columns:
    val = input(f"{symptom}: ")
    symptoms.append(int(val))

# Make prediction
prediction = model.predict([symptoms])
print(f"Predicted Disease: {prediction[0]}")