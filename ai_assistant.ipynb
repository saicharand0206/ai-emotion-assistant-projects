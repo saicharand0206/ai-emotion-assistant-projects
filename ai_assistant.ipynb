# AI Personal Assistant (Simple CLI)
# Author: Sai Charan Dantu

import datetime
import webbrowser

def greet_user():
    hour = datetime.datetime.now().hour
    if hour < 12:
        return "Good Morning!"
    elif hour < 17:
        return "Good Afternoon!"
    else:
        return "Good Evening!"

def ai_assistant():
    print("Hello! I am your AI Assistant.")
    print(greet_user())

    while True:
        command = input("How can I help you? (say 'exit' to quit): ").lower()

        if 'time' in command:
            print("Current time is:", datetime.datetime.now().strftime("%H:%M:%S"))
        elif 'google' in command:
            webbrowser.open("https://www.google.com")
        elif 'youtube' in command:
            webbrowser.open("https://www.youtube.com")
        elif 'exit' in command:
            print("Goodbye!")
            break
        else:
            print("Sorry, I didn't understand that.")

ai_assistant()